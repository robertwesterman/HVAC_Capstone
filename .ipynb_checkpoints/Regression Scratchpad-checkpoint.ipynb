{
 "cells": [
  {
   "cell_type": "code",
   "execution_count": 14,
   "metadata": {},
   "outputs": [],
   "source": [
    "# Libraries used in this project\n",
    "import pandas as pd\n",
    "import matplotlib.pyplot as plt\n",
    "import seaborn as sns\n",
    "import numpy as np\n",
    "\n",
    "%matplotlib inline\n",
    "\n",
    "# Alternately \"from sklearn.linear_model import LinearRegression\" for shorter call\n",
    "from sklearn import linear_model\n",
    "\n",
    "from sklearn.metrics import mean_squared_error, r2_score, mean_absolute_error"
   ]
  },
  {
   "cell_type": "code",
   "execution_count": 2,
   "metadata": {},
   "outputs": [],
   "source": [
    "# Read training and test sets for 1 of 4 datasets\n",
    "dfcoolhi = pd.read_csv('dfnorm_cool_hi_train.csv')\n",
    "dfcoolhi_test = pd.read_csv('dfnorm_cool_hi_test.csv')"
   ]
  },
  {
   "cell_type": "code",
   "execution_count": 3,
   "metadata": {},
   "outputs": [],
   "source": [
    "# Create arrays of X (independent) and Y (dependent) variable values\n",
    "coolhi_X = dfcoolhi.iloc[:, :-1].values\n",
    "coolhi_Y = dfcoolhi.iloc[:, -1].values"
   ]
  },
  {
   "cell_type": "code",
   "execution_count": 4,
   "metadata": {},
   "outputs": [],
   "source": [
    "# Repeat for test dataset\n",
    "coolhi_Xtest = dfcoolhi_test.iloc[:, :-1].values\n",
    "coolhi_Ytest = dfcoolhi_test.iloc[:, -1].values"
   ]
  },
  {
   "cell_type": "code",
   "execution_count": 5,
   "metadata": {},
   "outputs": [],
   "source": [
    "# Creat linear regression object, call it reg\n",
    "reg = linear_model.LinearRegression()"
   ]
  },
  {
   "cell_type": "code",
   "execution_count": 6,
   "metadata": {},
   "outputs": [
    {
     "data": {
      "text/plain": [
       "LinearRegression()"
      ]
     },
     "execution_count": 6,
     "metadata": {},
     "output_type": "execute_result"
    }
   ],
   "source": [
    "# Train model reg using training arrays\n",
    "reg.fit(coolhi_X, coolhi_Y)"
   ]
  },
  {
   "cell_type": "code",
   "execution_count": 7,
   "metadata": {},
   "outputs": [],
   "source": [
    "# Create a predicted Y from the model and test data\n",
    "coolhi_Ypredict = reg.predict(coolhi_Xtest)"
   ]
  },
  {
   "cell_type": "code",
   "execution_count": 15,
   "metadata": {},
   "outputs": [
    {
     "name": "stdout",
     "output_type": "stream",
     "text": [
      "Coefficients: \n",
      " [1.64427178e+01 7.82089034e+00 6.69680385e+00 8.01353977e+00\n",
      " 2.18245152e-02 1.59010988e-01 3.65930042e-03]\n",
      "Intercept: \n",
      " -29.620133635210347\n",
      "\n",
      "Root mean squared error (Standard error): 0.086\n",
      "Coefficient of determination (R-squared): 0.527\n",
      "Mean Absolute Error (MAE): 0.070\n"
     ]
    }
   ],
   "source": [
    "# The coefficients & intercept\n",
    "print('Coefficients: \\n', reg.coef_)\n",
    "print('Intercept: \\n', reg.intercept_)\n",
    "print()\n",
    "# The root mean squared error\n",
    "print('Root mean squared error (Standard error): %.3f'\n",
    "      % mean_squared_error(coolhi_Ytest, coolhi_Ypredict, squared=False))\n",
    "# The coefficient of determination: 1 is perfect prediction\n",
    "print('Coefficient of determination (R-squared): %.3f'\n",
    "      % r2_score(coolhi_Ytest, coolhi_Ypredict))\n",
    "print('Mean Absolute Error (MAE): %.3f' % mean_absolute_error(coolhi_Ytest, coolhi_Ypredict))"
   ]
  },
  {
   "cell_type": "code",
   "execution_count": 28,
   "metadata": {},
   "outputs": [
    {
     "name": "stdout",
     "output_type": "stream",
     "text": [
      "Variable:   Coefficient:\n",
      "       X1   16.44271776389939\n",
      "       X2   7.8208903410077735\n",
      "       X3   6.696803845177729\n",
      "       X4   8.013539771403062\n",
      "       X6   0.021824515204390195\n",
      "       X7   0.15901098821818388\n",
      "       X8   0.003659300416531637\n"
     ]
    }
   ],
   "source": [
    "print(\"Variable:   Coefficient:\")\n",
    "print(\"\\n\".join(\"       {}   {}\".format(x, y) for x, y in\n",
    "                zip(dfcoolhi.iloc[:, :-1].columns.tolist(),reg.coef_)))"
   ]
  },
  {
   "cell_type": "code",
   "execution_count": 9,
   "metadata": {},
   "outputs": [],
   "source": [
    "from sklearn.feature_selection import RFECV"
   ]
  },
  {
   "cell_type": "code",
   "execution_count": 34,
   "metadata": {},
   "outputs": [
    {
     "name": "stdout",
     "output_type": "stream",
     "text": [
      "Optimal number of features : 5\n"
     ]
    },
    {
     "data": {
      "image/png": "[encoded data removed]",
      "text/plain": [
       "<Figure size 432x288 with 1 Axes>"
      ]
     },
     "metadata": {
      "needs_background": "light"
     },
     "output_type": "display_data"
    },
    {
     "name": "stdout",
     "output_type": "stream",
     "text": [
      "Variable:   Feature Rank:\n",
      "       X1   1\n",
      "       X2   1\n",
      "       X3   1\n",
      "       X4   1\n",
      "       X6   2\n",
      "       X7   1\n",
      "       X8   3\n"
     ]
    }
   ],
   "source": [
    "# Create the RFE object and compute a cross-validated score.\n",
    "linreg = linear_model.LinearRegression()\n",
    "rfecv = RFECV(estimator=linreg, step=1, scoring='neg_mean_absolute_error')\n",
    "rfecv.fit(coolhi_X, coolhi_Y)\n",
    "\n",
    "print(\"Optimal number of features : %d\" % rfecv.n_features_)\n",
    "\n",
    "# Plot number of features VS. cross-validation scores\n",
    "plt.figure()\n",
    "plt.xlabel(\"Number of features selected\")\n",
    "plt.ylabel(\"Cross validation on MAE\")\n",
    "plt.plot(range(1, len(rfecv.grid_scores_) + 1), rfecv.grid_scores_)\n",
    "plt.show()\n",
    "\n",
    "# List rank of features\n",
    "print(\"Variable:   Feature Rank:\")\n",
    "print(\"\\n\".join(\"       {}   {}\".format(x, y) for x, y in\n",
    "                zip(dfcoolhi.iloc[:, :-1].columns.tolist(),rfecv.ranking_)))"
   ]
  },
  {
   "cell_type": "code",
   "execution_count": 36,
   "metadata": {},
   "outputs": [],
   "source": [
    "# Build function to select features for all 4 datasets\n",
    "def pickfeat(dftrain):\n",
    "    datasetname =[x for x in globals() if globals()[x] is dftrain][0] # that funky dataframe name code\n",
    "    train_X = dftrain.iloc[:, :-1].values # X & Y arrays\n",
    "    train_Y = dftrain.iloc[:, -1].values\n",
    "    linreg = linear_model.LinearRegression() # create object\n",
    "    rfecv = RFECV(estimator=linreg, step=1, scoring=None) # create evaluator using linreg model; score by R^2\n",
    "    rfecv.fit(train_X, train_Y) # fit data to evaluator\n",
    "    print(\"Optimal number of features for \",datasetname,\": %d\" % rfecv.n_features_)\n",
    "    # Plot number of features VS. cross-validation scores\n",
    "    plt.figure()\n",
    "    plt.xlabel(\"Number of features selected\")\n",
    "    plt.ylabel(\"Cross validation using R^2\")\n",
    "    plt.plot(range(1, len(rfecv.grid_scores_) + 1), rfecv.grid_scores_)\n",
    "    plt.show()\n",
    "    print(datasetname)\n",
    "    print(\"Variable:   Feature Rank:\") # List rank of features\n",
    "    print(\"\\n\".join(\"       {}   {}\".format(x, y) for x, y in\n",
    "                zip(dftrain.iloc[:, :-1].columns.tolist(),rfecv.ranking_)))"
   ]
  },
  {
   "cell_type": "code",
   "execution_count": 37,
   "metadata": {},
   "outputs": [
    {
     "name": "stdout",
     "output_type": "stream",
     "text": [
      "Optimal number of features for  dfcoolhi : 6\n"
     ]
    },
    {
     "data": {
      "image/png": "[encoded data removed]",
      "text/plain": [
       "<Figure size 432x288 with 1 Axes>"
      ]
     },
     "metadata": {
      "needs_background": "light"
     },
     "output_type": "display_data"
    },
    {
     "name": "stdout",
     "output_type": "stream",
     "text": [
      "dfcoolhi\n",
      "Variable:   Feature Rank:\n",
      "       X1   1\n",
      "       X2   1\n",
      "       X3   1\n",
      "       X4   1\n",
      "       X6   1\n",
      "       X7   1\n",
      "       X8   2\n"
     ]
    }
   ],
   "source": [
    "pickfeat(dfcoolhi)"
   ]
  },
  {
   "cell_type": "code",
   "execution_count": 38,
   "metadata": {},
   "outputs": [],
   "source": [
    "# Build a function to regress previously optimized datasets\n",
    "def regressreport(dfopt, dfopttest):\n",
    "    datasetname =[x for x in globals() if globals()[x] is dfopt][0] # that funky dataframe name code\n",
    "    opt_X = dfopt.iloc[:, :-1].values # X & Y lists\n",
    "    opt_Y = dfopt.iloc[:, -1].values\n",
    "    opt_Xtest = dfopttest.iloc[:, :-1].values\n",
    "    opt_Ytest = dfopttest.iloc[:, -1].values\n",
    "    reg = linear_model.LinearRegression() # create object\n",
    "    reg.fit(opt_X, opt_Y) # fit to data\n",
    "    opt_Ypredict = reg.predict(opt_Xtest) # run test data through formula\n",
    "    print(\"Linear Regression Report for: \", str(datasetname))\n",
    "    print(\"Variable:   Coefficient:\")\n",
    "    print(\"\\n\".join(\"       {}   {}\".format(x, y) for x, y in\n",
    "                    zip(dfopt.iloc[:, :-1].columns.tolist(),reg.coef_)))\n",
    "    print('Intercept: \\n', reg.intercept_)\n",
    "    print()\n",
    "    print('Root mean squared error (Standard error): %.3f'\n",
    "          % mean_squared_error(opt_Ytest, opt_Ypredict, squared=False))\n",
    "    print('Coefficient of determination (R-squared): %.3f'\n",
    "          % r2_score(opt_Ytest, opt_Ypredict))\n",
    "    print('Mean Absolute Error (MAE): %.3f' % mean_absolute_error(opt_Ytest, opt_Ypredict))"
   ]
  },
  {
   "cell_type": "code",
   "execution_count": 39,
   "metadata": {},
   "outputs": [
    {
     "name": "stdout",
     "output_type": "stream",
     "text": [
      "Linear Regression Report for:  dfcoolhi\n",
      "Variable:   Coefficient:\n",
      "       X1   16.44271776389939\n",
      "       X2   7.8208903410077735\n",
      "       X3   6.696803845177729\n",
      "       X4   8.013539771403062\n",
      "       X6   0.021824515204390195\n",
      "       X7   0.15901098821818388\n",
      "       X8   0.003659300416531637\n",
      "Intercept: \n",
      " -29.620133635210347\n",
      "\n",
      "Root mean squared error (Standard error): 0.086\n",
      "Coefficient of determination (R-squared): 0.527\n",
      "Mean Absolute Error (MAE): 0.070\n"
     ]
    }
   ],
   "source": [
    "regressreport(dfcoolhi, dfcoolhi_test)"
   ]
  },
  {
   "cell_type": "code",
   "execution_count": 60,
   "metadata": {},
   "outputs": [],
   "source": [
    "# Amend function to include some visuals\n",
    "def regressreport(dfopt, dfopttest):\n",
    "    datasetname =[x for x in globals() if globals()[x] is dfopt][0] # that funky dataframe name code\n",
    "    opt_X = dfopt.iloc[:, :-1].values # X & Y lists\n",
    "    opt_Y = dfopt.iloc[:, -1].values\n",
    "    opt_Xtest = dfopttest.iloc[:, :-1].values\n",
    "    opt_Ytest = dfopttest.iloc[:, -1].values\n",
    "    reg = linear_model.LinearRegression() # create object\n",
    "    reg.fit(opt_X, opt_Y) # fit to data\n",
    "    opt_Ypredict = reg.predict(opt_Xtest) # run test data through formula\n",
    "    print()\n",
    "    print(\"======================================\")\n",
    "    print(\"Linear Regression Report for: \", str(datasetname))\n",
    "    print(\"Variable:   Coefficient:\")\n",
    "    print(\"\\n\".join(\"       {}   {}\".format(x, y) for x, y in\n",
    "                    zip(dfopt.iloc[:, :-1].columns.tolist(),reg.coef_)))\n",
    "    print('Intercept: \\n', reg.intercept_)\n",
    "    print()\n",
    "    print('Root mean squared error (Standard error): %.3f'\n",
    "          % mean_squared_error(opt_Ytest, opt_Ypredict, squared=False))\n",
    "    print('Coefficient of determination (R-squared): %.3f'\n",
    "          % r2_score(opt_Ytest, opt_Ypredict))\n",
    "    print('Mean Absolute Error (MAE): %.3f' % mean_absolute_error(opt_Ytest, opt_Ypredict))\n",
    "    sns.set(style='ticks')\n",
    "    sns.regplot(opt_Ytest, y=opt_Ypredict, scatter_kws={'alpha':0.2,'color':\"orange\"})\n",
    "    plt.title('Actual Y vs Predicted for: '+str(datasetname))\n",
    "    plt.ylabel('Test Actual')\n",
    "    plt.xlabel('Test Predicted')\n",
    "    plt.show()"
   ]
  },
  {
   "cell_type": "code",
   "execution_count": 59,
   "metadata": {},
   "outputs": [
    {
     "name": "stdout",
     "output_type": "stream",
     "text": [
      "Linear Regression Report for:  dfcoolhi\n",
      "Variable:   Coefficient:\n",
      "       X1   16.44271776389939\n",
      "       X2   7.8208903410077735\n",
      "       X3   6.696803845177729\n",
      "       X4   8.013539771403062\n",
      "       X6   0.021824515204390195\n",
      "       X7   0.15901098821818388\n",
      "       X8   0.003659300416531637\n",
      "Intercept: \n",
      " -29.620133635210347\n",
      "\n",
      "Root mean squared error (Standard error): 0.086\n",
      "Coefficient of determination (R-squared): 0.527\n",
      "Mean Absolute Error (MAE): 0.070\n"
     ]
    },
    {
     "data": {
      "image/png": "[encoded data removed]",
      "text/plain": [
       "<Figure size 432x288 with 1 Axes>"
      ]
     },
     "metadata": {},
     "output_type": "display_data"
    }
   ],
   "source": [
    "regressreport(dfcoolhi, dfcoolhi_test)"
   ]
  }
 ],
 "metadata": {
  "kernelspec": {
   "display_name": "Python 3",
   "language": "python",
   "name": "python3"
  },
  "language_info": {
   "codemirror_mode": {
    "name": "ipython",
    "version": 3
   },
   "file_extension": ".py",
   "mimetype": "text/x-python",
   "name": "python",
   "nbconvert_exporter": "python",
   "pygments_lexer": "ipython3",
   "version": "3.7.6"
  }
 },
 "nbformat": 4,
 "nbformat_minor": 4
}
